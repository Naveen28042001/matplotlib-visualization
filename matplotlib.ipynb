{
 "cells": [
  {
   "cell_type": "code",
   "execution_count": null,
   "id": "feb75f0d-7679-4373-97c8-cf7c836a22cb",
   "metadata": {},
   "outputs": [],
   "source": [
    "Q1: What is Matplotlib? Why is it used? Name five plots that can be plotted using the Pyplot module of\n",
    "Matplotlib.\n",
    "\n",
    "matplotlib-matplotlib is a comprehensive library for creating static,animated and interactive visualizations in python and used to create 2D plots of array.It allows users to create numerous and diverse plot types.\n",
    "plots that can be plotted using pyplot module of matplotlib:\n",
    "    1.scatterplot\n",
    "    2.Barplot\n",
    "    3.Histogramplot\n",
    "    4.lineplot\n",
    "    5.Areaplot\n",
    "    6.pieplot"
   ]
  },
  {
   "cell_type": "code",
   "execution_count": null,
   "id": "9537cb2c-302c-49c2-b63d-dca2c6966cde",
   "metadata": {},
   "outputs": [],
   "source": [
    "Q2: What is a scatter plot? Use the following code to generate data for x and y. Using this generated data\n",
    "plot a scatter plot.\n",
    "\n",
    "\n",
    "scatterplot-A scatter plot is a diagram where each value in the data set is represented by a dot and it is a type of data visualization that shows the relationship between different variables.\n"
   ]
  },
  {
   "cell_type": "code",
   "execution_count": 1,
   "id": "0dbaa34e-2223-4130-8aa1-00d799dc5859",
   "metadata": {},
   "outputs": [],
   "source": [
    "import numpy as np\n",
    "np.random.seed(3)\n",
    "x = 3 + np.random.normal(0, 2, 50)\n",
    "y = 3 + np.random.normal(0, 2, len(x))\n"
   ]
  },
  {
   "cell_type": "code",
   "execution_count": 2,
   "id": "4f443415-3697-465e-a686-e1c31f52406b",
   "metadata": {},
   "outputs": [
    {
     "data": {
      "text/plain": [
       "array([ 6.57725695,  3.8730197 ,  3.19299494, -0.72698541,  2.44522359,\n",
       "        2.29048204,  2.83451704,  1.74599865,  2.91236366,  2.04556394,\n",
       "        0.37227049,  4.76924476,  4.76263608,  6.41914613,  3.10006728,\n",
       "        2.19064517,  1.9092801 , -0.09295463,  4.96473487,  0.79786474,\n",
       "        0.62990695,  2.5887002 ,  5.97229671,  3.47343253,  0.95242972,\n",
       "        1.5740136 ,  4.25048993,  2.67897327,  1.4623273 ,  2.53993856,\n",
       "        4.49011253,  6.95222157,  0.51175334,  1.74716618,  1.39246781,\n",
       "       -1.83816635,  1.15241596,  0.95224848,  5.24795592,  2.73617153,\n",
       "       -0.24657089,  4.2933509 ,  2.28745848, -0.48628207,  1.80670072,\n",
       "        1.82281124,  1.2522354 ,  3.05942763, -1.49651554,  2.46447627])"
      ]
     },
     "execution_count": 2,
     "metadata": {},
     "output_type": "execute_result"
    }
   ],
   "source": [
    "x"
   ]
  },
  {
   "cell_type": "code",
   "execution_count": 3,
   "id": "86372b78-cbf6-4583-a92f-24235bfed7fb",
   "metadata": {},
   "outputs": [
    {
     "data": {
      "text/plain": [
       "array([ 5.02636688,  4.70559568,  5.216375  ,  5.23878131,  5.97508626,\n",
       "        0.76339863,  4.69166681, -0.72177906,  1.79422979, -0.82894409,\n",
       "        5.09629502,  5.66747564,  2.60517064,  6.54929006,  1.65054498,\n",
       "        3.30123373,  3.30589141,  0.87160945,  3.87589322,  6.87795692,\n",
       "        0.95013825,  4.79867689,  2.6909863 ,  6.53925461,  3.9675767 ,\n",
       "        4.3524328 ,  4.28632656,  3.49817341,  0.20847299,  5.78332582,\n",
       "        0.25866197,  3.47712638,  4.22815418,  1.32417545,  3.29012643,\n",
       "        5.33576457,  2.95179106,  1.22268516, -2.8314755 ,  1.05631899,\n",
       "        1.81784252,  1.96716526,  1.08000764,  3.75459047,  1.85058316,\n",
       "        2.78109133,  4.3581432 ,  1.28912566,  2.39958785,  7.31629868])"
      ]
     },
     "execution_count": 3,
     "metadata": {},
     "output_type": "execute_result"
    }
   ],
   "source": [
    "y"
   ]
  },
  {
   "cell_type": "code",
   "execution_count": 6,
   "id": "f7902e40-eecd-475e-9694-8e862e56263d",
   "metadata": {},
   "outputs": [],
   "source": [
    "import matplotlib.pyplot as plt"
   ]
  },
  {
   "cell_type": "code",
   "execution_count": 9,
   "id": "c523cb25-930c-4ae9-85e5-981795975238",
   "metadata": {},
   "outputs": [
    {
     "data": {
      "text/plain": [
       "<matplotlib.collections.PathCollection at 0x7fee24b20ca0>"
      ]
     },
     "execution_count": 9,
     "metadata": {},
     "output_type": "execute_result"
    },
    {
     "data": {
      "image/png": "[encoded data removed]",
      "text/plain": [
       "<Figure size 600x200 with 1 Axes>"
      ]
     },
     "metadata": {},
     "output_type": "display_data"
    }
   ],
   "source": [
    "plt.figure(figsize = (6,2))\n",
    "plt.xlabel(\"This is my x axis\")\n",
    "plt.ylabel(\"This is my y axis\")\n",
    "plt.title(\"This is my X vs Y\")\n",
    "plt.scatter(x,y)\n"
   ]
  },
  {
   "cell_type": "code",
   "execution_count": null,
   "id": "08ce5a55-cb7f-409d-8361-2b512ab81b04",
   "metadata": {},
   "outputs": [],
   "source": [
    "Q3.Why is the subplot() function used? Draw four line plots using the subplot() function.\n",
    "\n",
    "subplots-subplots method provides a way to plot multiple plots on a single figure."
   ]
  },
  {
   "cell_type": "code",
   "execution_count": 27,
   "id": "a082569c-ee3d-4194-8d04-b34ba88993a9",
   "metadata": {},
   "outputs": [],
   "source": [
    "import numpy as np\n",
    "x1 = np.array([0, 1, 2, 3, 4, 5]) \n",
    "y1 = np.array([0, 100, 200, 300, 400, 500])\n",
    "x2 = np.array([0, 1, 2, 3, 4, 5]) \n",
    "y2 = np.array([50, 20, 40, 20, 60, 70])\n",
    "x3 = np.array([0, 1, 2, 3, 4, 5]) \n",
    "y3 = np.array([10, 20, 30, 40, 50, 60])\n",
    "x4 = np.array([0, 1, 2, 3, 4, 5]) \n",
    "y4 = np.array([200, 350, 250, 550, 450, 150])"
   ]
  },
  {
   "cell_type": "code",
   "execution_count": 28,
   "id": "954bd431-c55a-46fd-9b54-cf1dd4b9f4c0",
   "metadata": {},
   "outputs": [
    {
     "data": {
      "text/plain": [
       "array([0, 1, 2, 3, 4, 5])"
      ]
     },
     "execution_count": 28,
     "metadata": {},
     "output_type": "execute_result"
    }
   ],
   "source": [
    "x1"
   ]
  },
  {
   "cell_type": "code",
   "execution_count": 29,
   "id": "26c91993-c414-41bb-858b-4dd698d70a99",
   "metadata": {},
   "outputs": [
    {
     "data": {
      "text/plain": [
       "array([  0, 100, 200, 300, 400, 500])"
      ]
     },
     "execution_count": 29,
     "metadata": {},
     "output_type": "execute_result"
    }
   ],
   "source": [
    "y1"
   ]
  },
  {
   "cell_type": "code",
   "execution_count": 30,
   "id": "131fb2f9-032f-49fc-ac96-1a8928c65626",
   "metadata": {},
   "outputs": [
    {
     "data": {
      "text/plain": [
       "array([0, 1, 2, 3, 4, 5])"
      ]
     },
     "execution_count": 30,
     "metadata": {},
     "output_type": "execute_result"
    }
   ],
   "source": [
    "x2"
   ]
  },
  {
   "cell_type": "code",
   "execution_count": 31,
   "id": "5dfd84cb-7e9e-4e37-92a6-6f01b1c6e82e",
   "metadata": {},
   "outputs": [
    {
     "data": {
      "text/plain": [
       "array([50, 20, 40, 20, 60, 70])"
      ]
     },
     "execution_count": 31,
     "metadata": {},
     "output_type": "execute_result"
    }
   ],
   "source": [
    "y2"
   ]
  },
  {
   "cell_type": "code",
   "execution_count": 32,
   "id": "7f542d63-8415-42a9-9301-b8c7755ee7fe",
   "metadata": {},
   "outputs": [
    {
     "data": {
      "text/plain": [
       "array([0, 1, 2, 3, 4, 5])"
      ]
     },
     "execution_count": 32,
     "metadata": {},
     "output_type": "execute_result"
    }
   ],
   "source": [
    "x3"
   ]
  },
  {
   "cell_type": "code",
   "execution_count": 33,
   "id": "818b8f11-9f1d-4b15-a40c-8dd5e460db26",
   "metadata": {},
   "outputs": [
    {
     "data": {
      "text/plain": [
       "array([10, 20, 30, 40, 50, 60])"
      ]
     },
     "execution_count": 33,
     "metadata": {},
     "output_type": "execute_result"
    }
   ],
   "source": [
    "y3"
   ]
  },
  {
   "cell_type": "code",
   "execution_count": 34,
   "id": "3d6563fe-4ae1-4c01-bc14-6f71fa7a8587",
   "metadata": {},
   "outputs": [
    {
     "data": {
      "text/plain": [
       "array([0, 1, 2, 3, 4, 5])"
      ]
     },
     "execution_count": 34,
     "metadata": {},
     "output_type": "execute_result"
    }
   ],
   "source": [
    "x4"
   ]
  },
  {
   "cell_type": "code",
   "execution_count": 35,
   "id": "acc25ae6-986d-45a8-88e2-d1ce284dfd5a",
   "metadata": {},
   "outputs": [
    {
     "data": {
      "text/plain": [
       "array([200, 350, 250, 550, 450, 150])"
      ]
     },
     "execution_count": 35,
     "metadata": {},
     "output_type": "execute_result"
    }
   ],
   "source": [
    "y4"
   ]
  },
  {
   "cell_type": "code",
   "execution_count": 16,
   "id": "fbf056bb-420c-4ab7-a6e7-1cc90588bc12",
   "metadata": {},
   "outputs": [],
   "source": [
    "import matplotlib.pyplot as plt"
   ]
  },
  {
   "cell_type": "code",
   "execution_count": 82,
   "id": "07948717-1690-4162-aa7b-15740bfddf27",
   "metadata": {},
   "outputs": [
    {
     "data": {
      "text/plain": [
       "<Figure size 640x480 with 0 Axes>"
      ]
     },
     "metadata": {},
     "output_type": "display_data"
    }
   ],
   "source": [
    "fig = plt.figure()"
   ]
  },
  {
   "cell_type": "code",
   "execution_count": 88,
   "id": "d4a63a12-debd-4fbe-a4fd-fb9afd19cfa1",
   "metadata": {},
   "outputs": [
    {
     "data": {
      "text/plain": [
       "(<Figure size 640x480 with 3 Axes>, False)"
      ]
     },
     "execution_count": 88,
     "metadata": {},
     "output_type": "execute_result"
    }
   ],
   "source": [
    "fig, (ax) == fig.add_subplot(122)"
   ]
  },
  {
   "cell_type": "code",
   "execution_count": 93,
   "id": "b9db2c87-74ce-492a-b349-4fe9808227d4",
   "metadata": {},
   "outputs": [
    {
     "data": {
      "text/plain": [
       "[<matplotlib.lines.Line2D at 0x7fee21a763b0>]"
      ]
     },
     "execution_count": 93,
     "metadata": {},
     "output_type": "execute_result"
    },
    {
     "data": {
      "image/png": "[encoded data removed]",
      "text/plain": [
       "<Figure size 640x480 with 1 Axes>"
      ]
     },
     "metadata": {},
     "output_type": "display_data"
    }
   ],
   "source": [
    "plt.plot(x1,y1)\n",
    "plt.plot(x2,y2)\n",
    "plt.plot(x3,y3)\n",
    "plt.plot(x4,y4)"
   ]
  },
  {
   "cell_type": "code",
   "execution_count": null,
   "id": "53242851-4a3f-46fb-93ec-2765fa98faab",
   "metadata": {},
   "outputs": [],
   "source": []
  },
  {
   "cell_type": "code",
   "execution_count": null,
   "id": "76e83bc6-9513-4b18-b824-240fdedacaaf",
   "metadata": {},
   "outputs": [],
   "source": [
    "Q4: What is a bar plot? Why is it used? Using the following data plot a bar plot and a horizontal bar plot.\n",
    "\n",
    "\n",
    "bar plot -  It shows the relationship between a numeric and a categoric variable.\n",
    "            Bar plots are a type of data visualization used to represent data in the form of rectangular bars. "
   ]
  },
  {
   "cell_type": "code",
   "execution_count": 40,
   "id": "fb804fd9-098b-45a7-8187-2a337ae554bd",
   "metadata": {},
   "outputs": [],
   "source": [
    "import numpy as np\n",
    "company = np.array([\"Apple\", \"Microsoft\", \"Google\", \"AMD\"])\n",
    "profit = np.array([3000, 8000, 1000, 10000])"
   ]
  },
  {
   "cell_type": "code",
   "execution_count": 41,
   "id": "80b30660-aa76-4992-abb1-a998e4b1e22f",
   "metadata": {},
   "outputs": [
    {
     "data": {
      "text/plain": [
       "array(['Apple', 'Microsoft', 'Google', 'AMD'], dtype='<U9')"
      ]
     },
     "execution_count": 41,
     "metadata": {},
     "output_type": "execute_result"
    }
   ],
   "source": [
    "company"
   ]
  },
  {
   "cell_type": "code",
   "execution_count": 42,
   "id": "657032f2-e717-4ff2-94ba-712a7433dd0d",
   "metadata": {},
   "outputs": [
    {
     "data": {
      "text/plain": [
       "array([ 3000,  8000,  1000, 10000])"
      ]
     },
     "execution_count": 42,
     "metadata": {},
     "output_type": "execute_result"
    }
   ],
   "source": [
    "profit"
   ]
  },
  {
   "cell_type": "code",
   "execution_count": 43,
   "id": "d211d391-2418-419b-81f8-b02c1daec164",
   "metadata": {},
   "outputs": [],
   "source": [
    "import matplotlib.pyplot as plt"
   ]
  },
  {
   "cell_type": "code",
   "execution_count": 45,
   "id": "67ad6a7c-a4bc-4f9d-ba92-4f2b67038fb2",
   "metadata": {},
   "outputs": [
    {
     "data": {
      "text/plain": [
       "<BarContainer object of 4 artists>"
      ]
     },
     "execution_count": 45,
     "metadata": {},
     "output_type": "execute_result"
    },
    {
     "data": {
      "image/png": "[encoded data removed]",
      "text/plain": [
       "<Figure size 600x200 with 1 Axes>"
      ]
     },
     "metadata": {},
     "output_type": "display_data"
    }
   ],
   "source": [
    "plt.figure(figsize = (6,2))\n",
    "plt.xlabel(\"This is my x axis\")\n",
    "plt.ylabel(\"This is my y axis\")\n",
    "plt.title(\"This is my x vs y\")\n",
    "plt.bar(company,profit)"
   ]
  },
  {
   "cell_type": "code",
   "execution_count": 46,
   "id": "9646b319-6f64-45c9-b77b-7b3520ecaf83",
   "metadata": {},
   "outputs": [
    {
     "data": {
      "text/plain": [
       "<BarContainer object of 4 artists>"
      ]
     },
     "execution_count": 46,
     "metadata": {},
     "output_type": "execute_result"
    },
    {
     "data": {
      "image/png": "[encoded data removed]",
      "text/plain": [
       "<Figure size 640x480 with 1 Axes>"
      ]
     },
     "metadata": {},
     "output_type": "display_data"
    }
   ],
   "source": [
    "plt.barh(company,profit)"
   ]
  },
  {
   "cell_type": "code",
   "execution_count": null,
   "id": "2bc6caa7-083d-404b-9049-469df81fc914",
   "metadata": {},
   "outputs": [],
   "source": [
    "What is a box plot? Why is it used? Using the following data plot a box plot.\n",
    "\n",
    "box plot- Box plots provide a quick visual summary of the variability of values in a dataset. They show the median, upper and lower quartiles, minimum and maximum values, and any outliers in the dataset."
   ]
  },
  {
   "cell_type": "code",
   "execution_count": 47,
   "id": "9c73817f-8386-4a29-bc5c-1c00a8c2f9ba",
   "metadata": {},
   "outputs": [],
   "source": [
    "import numpy as np\n",
    "box1 = np.random.normal(100, 10, 200)\n",
    "box2 = np.random.normal(90, 20, 200)"
   ]
  },
  {
   "cell_type": "code",
   "execution_count": 48,
   "id": "d1667081-63cb-425e-a108-4de6c3a47bba",
   "metadata": {},
   "outputs": [
    {
     "data": {
      "text/plain": [
       "array([108.74285723,  87.06463368,  99.20259062, 105.64485518,\n",
       "       112.33471044, 101.48986395,  94.69417856,  92.69473356,\n",
       "       106.45061985, 103.13060374,  94.83352075,  98.10928334,\n",
       "        95.83801985, 107.24657658,  93.10039323, 104.86414475,\n",
       "       108.5151895 , 104.86249326,  91.65760149, 113.44992457,\n",
       "        93.21787321, 104.26435074,  92.46665206,  82.55889749,\n",
       "       102.25750266, 102.87035165,  99.22559039, 102.76068497,\n",
       "        93.51589112,  92.62535163,  98.31909901, 119.09276809,\n",
       "       108.14814541,  94.80008246, 105.58713205,  95.2163534 ,\n",
       "        95.42739213, 108.59284008,  94.74735355,  83.24365366,\n",
       "        90.93505299, 100.88415206, 101.28007821, 112.41616518,\n",
       "        92.83974202, 107.31465736, 104.2596675 ,  98.50986228,\n",
       "       108.35843902, 104.92118903,  91.37691513, 110.7168393 ,\n",
       "        87.7909808 , 100.59615433, 100.02444162, 104.24635721,\n",
       "        92.7456652 ,  99.65056614,  98.59379973, 109.97088367,\n",
       "        92.04085307, 100.72745529,  97.38759515,  87.01953362,\n",
       "       126.76112468,  99.28780973,  85.13341929, 114.08626959,\n",
       "        89.29414501, 103.70869972, 108.62832095,  93.51567977,\n",
       "        95.69109945,  94.59729736,  98.7063899 ,  83.7753883 ,\n",
       "        87.64363376,  98.59213558, 110.38952117, 106.31744177,\n",
       "       117.29417429, 106.94052272,  94.88871007,  98.77156594,\n",
       "        79.69606446,  90.3922489 ,  89.79640721, 102.70593425,\n",
       "       106.47829797,  94.39626581,  94.1149838 ,  84.53444177,\n",
       "        98.72237942, 102.48168027, 104.45780959,  92.17290957,\n",
       "       119.8848968 , 111.95058336,  99.04762401,  94.72812221,\n",
       "        96.78415307, 101.51130372,  99.81372284, 104.83528787,\n",
       "       107.68965158, 113.66242844, 111.47264793,  98.89770845,\n",
       "       103.88250414,  96.12872819,  94.12779688, 119.10826851,\n",
       "        95.4015385 , 119.90737812,  96.50964607, 102.52825091,\n",
       "       110.89409548, 100.23922022, 103.93125281,  97.586152  ,\n",
       "        95.24475142,  98.34222977,  93.50282579, 116.31382954,\n",
       "        98.32301397, 117.22669198,  73.14891322, 100.18420795,\n",
       "       105.61951672,  97.06178762, 110.94653079, 106.39692355,\n",
       "        97.2539988 , 104.35009258, 128.11878375, 102.51995127,\n",
       "       102.99502331,  95.60008689, 101.33497041,  87.10738806,\n",
       "        98.01709743, 124.57587626, 110.67215551, 106.41420656,\n",
       "       111.03921665, 118.81754991, 105.93588115, 120.70878526,\n",
       "       110.69798358, 101.6651951 , 117.19476555,  76.40785262,\n",
       "        94.28651038, 102.65787047,  90.87909087,  98.43941597,\n",
       "        93.61209104,  93.45584788, 127.11926335, 106.27473889,\n",
       "        99.46052151, 113.15167224,  97.62662524, 108.85339675,\n",
       "       103.50815841, 116.26573605,  85.80128694, 107.65721072,\n",
       "       101.22249745,  88.42616624, 110.65420182,  91.27624339,\n",
       "       116.19238485, 105.13093008, 106.95483983, 100.80457388,\n",
       "       109.04528487,  81.34348828, 100.74727794,  93.71749193,\n",
       "       102.82660307,  99.52843093, 106.16577883,  91.62368553,\n",
       "       118.39151887, 123.15858597,  97.91716582,  99.85026814,\n",
       "       102.8755765 , 112.6408575 , 118.96900956,  87.94197209,\n",
       "        93.84891436,  89.37843877,  88.8721885 ,  83.60703753,\n",
       "       103.62803486,  88.40963535, 115.03261953, 109.08318716])"
      ]
     },
     "execution_count": 48,
     "metadata": {},
     "output_type": "execute_result"
    }
   ],
   "source": [
    "box1"
   ]
  },
  {
   "cell_type": "code",
   "execution_count": 49,
   "id": "3acfdf2b-2a30-4023-b046-b63ea4417696",
   "metadata": {},
   "outputs": [
    {
     "data": {
      "text/plain": [
       "array([ 69.40580949,  69.39582765,  77.75231165, 117.99930992,\n",
       "        73.00785281,  60.12900664,  89.01152229,  97.46779888,\n",
       "        76.8548503 , 122.38861613,  94.80913561,  99.06075574,\n",
       "        72.88934558,  89.20540323,  86.86962372,  44.55511771,\n",
       "        95.75314457,  54.10385929,  89.42428709,  60.52114346,\n",
       "       130.39301284,  96.52524546, 107.22715228, 108.38016262,\n",
       "        63.51022605,  44.3641537 ,  83.40843694, 107.94299494,\n",
       "        91.82069023, 105.70864494, 108.73265146,  60.15205798,\n",
       "        95.75367447, 129.32949256,  78.5893541 ,  49.41855749,\n",
       "        85.36190894,  80.70662558,  98.36762045,  72.15187331,\n",
       "        91.81433546,  45.65164778, 107.07926743, 121.73733086,\n",
       "       115.95755228,  59.69568683,  96.38392352,  30.3205959 ,\n",
       "        95.66371844,  88.71279656,  70.08411511,  96.87589037,\n",
       "        92.7602931 , 108.79005708,  92.54617048,  94.70054026,\n",
       "        51.09855476,  66.80554098,  80.48201226,  95.93689062,\n",
       "        89.87402442, 120.01780714,  72.5968162 ,  85.20735853,\n",
       "        95.1016139 ,  85.37005181,  99.9116079 ,  78.58874352,\n",
       "       118.4068461 ,  83.60819718, 112.31890369,  89.39393266,\n",
       "       119.83044693,  62.03767978, 100.33595108,  81.34847248,\n",
       "        94.62801522, 113.85610331,  67.21806402,  63.55940531,\n",
       "        70.03266243,  95.08775149,  52.26326149,  91.93187469,\n",
       "        64.27541345,  67.12556347,  82.6164451 ,  97.61195169,\n",
       "        77.47170993,  80.15912214,  89.16311544,  84.54528928,\n",
       "        36.4695727 ,  81.39798786,  91.69928116, 111.95558975,\n",
       "       130.92665553, 103.33975699,  91.58184385,  70.70473065,\n",
       "        91.78106742, 105.57793805, 115.29289823,  72.38977332,\n",
       "        94.72811191, 106.31208932, 127.21623338,  95.11180971,\n",
       "        79.16992568,  76.20800686,  82.85118543,  76.96159592,\n",
       "       106.53071696, 111.38611445, 104.49713645, 113.84372486,\n",
       "        80.92462923,  97.60670117,  82.30673649,  90.87317377,\n",
       "       114.49971485,  89.40529376,  52.70388405,  84.94368025,\n",
       "        75.74300409,  59.8216576 ,  74.19268622, 109.21249607,\n",
       "       123.61821298,  80.21987916, 110.05071674, 113.56444203,\n",
       "        66.80415464,  89.21274591,  89.11079658,  93.44771358,\n",
       "        58.12498379,  83.01715522, 111.15642414, 115.24406398,\n",
       "       126.62724162,  83.24981909, 127.39015113, 103.31810223,\n",
       "        62.81597665, 105.23218564,  82.95439931, 100.38152528,\n",
       "        87.94952115, 114.16477282,  95.13120319,  84.34989964,\n",
       "       109.29931537,  95.12443553,  81.74087198, 115.54548724,\n",
       "        81.83309515,  77.25730274,  79.20850776,  60.69055824,\n",
       "        78.93585661, 127.21755384,  71.8343213 ,  90.16837807,\n",
       "        67.83633301,  77.77293696, 120.37384318, 107.92711472,\n",
       "        77.794993  ,  90.12440232,  73.47992076,  74.31589295,\n",
       "        71.70355604,  72.05720446,  96.51898546, 101.93586334,\n",
       "        99.76484985,  86.61126286,  62.83909599,  88.65779057,\n",
       "        71.51412516, 107.62602265, 101.12885889, 104.93783061,\n",
       "        83.03263367,  53.77961653, 109.15792787, 114.5264267 ,\n",
       "        60.33366783,  92.75832088, 113.86505158,  68.48552901,\n",
       "       125.35365552,  83.01935087,  68.49219779, 117.43316082,\n",
       "        95.89064273,  76.93723677, 107.59575906,  50.88465743])"
      ]
     },
     "execution_count": 49,
     "metadata": {},
     "output_type": "execute_result"
    }
   ],
   "source": [
    "box2"
   ]
  },
  {
   "cell_type": "code",
   "execution_count": 104,
   "id": "0bdd7600-4282-4987-80e7-301b1fca05f3",
   "metadata": {},
   "outputs": [],
   "source": [
    "box = [box1,box2]"
   ]
  },
  {
   "cell_type": "code",
   "execution_count": 105,
   "id": "3a747603-a7c0-4636-8ada-7b4b065ea57c",
   "metadata": {},
   "outputs": [
    {
     "data": {
      "text/plain": [
       "{'whiskers': [<matplotlib.lines.Line2D at 0x7fee218b2a10>,\n",
       "  <matplotlib.lines.Line2D at 0x7fee218b2cb0>,\n",
       "  <matplotlib.lines.Line2D at 0x7fee218b3c70>,\n",
       "  <matplotlib.lines.Line2D at 0x7fee218b3f10>],\n",
       " 'caps': [<matplotlib.lines.Line2D at 0x7fee218b2f50>,\n",
       "  <matplotlib.lines.Line2D at 0x7fee218b31f0>,\n",
       "  <matplotlib.lines.Line2D at 0x7fee216c01f0>,\n",
       "  <matplotlib.lines.Line2D at 0x7fee216c0490>],\n",
       " 'boxes': [<matplotlib.lines.Line2D at 0x7fee218b2770>,\n",
       "  <matplotlib.lines.Line2D at 0x7fee218b39d0>],\n",
       " 'medians': [<matplotlib.lines.Line2D at 0x7fee218b3490>,\n",
       "  <matplotlib.lines.Line2D at 0x7fee216c0730>],\n",
       " 'fliers': [<matplotlib.lines.Line2D at 0x7fee218b3730>,\n",
       "  <matplotlib.lines.Line2D at 0x7fee216c09d0>],\n",
       " 'means': []}"
      ]
     },
     "execution_count": 105,
     "metadata": {},
     "output_type": "execute_result"
    },
    {
     "data": {
      "image/png": "[encoded data removed]",
      "text/plain": [
       "<Figure size 600x200 with 1 Axes>"
      ]
     },
     "metadata": {},
     "output_type": "display_data"
    }
   ],
   "source": [
    "import matplotlib.pyplot as plt\n",
    "plt.figure(figsize = (6,2))\n",
    "plt.xlabel(\"This is my x axis\")\n",
    "plt.ylabel(\"This is my y axis\")\n",
    "plt.title(\"This is my x vs y\")\n",
    "plt.boxplot(box)"
   ]
  },
  {
   "cell_type": "code",
   "execution_count": null,
   "id": "8603912b-e777-406b-bf49-b8d3cee9fa0a",
   "metadata": {},
   "outputs": [],
   "source": [
    "git clone https://github.com/Naveen28042001/matplotlib-visualization.git"
   ]
  },
  {
   "cell_type": "code",
   "execution_count": null,
   "id": "a786f49d-5bac-4ca6-ac26-c18c9d643ee4",
   "metadata": {},
   "outputs": [],
   "source": []
  }
 ],
 "metadata": {
  "kernelspec": {
   "display_name": "Python 3 (ipykernel)",
   "language": "python",
   "name": "python3"
  },
  "language_info": {
   "codemirror_mode": {
    "name": "ipython",
    "version": 3
   },
   "file_extension": ".py",
   "mimetype": "text/x-python",
   "name": "python",
   "nbconvert_exporter": "python",
   "pygments_lexer": "ipython3",
   "version": "3.10.8"
  }
 },
 "nbformat": 4,
 "nbformat_minor": 5
}
